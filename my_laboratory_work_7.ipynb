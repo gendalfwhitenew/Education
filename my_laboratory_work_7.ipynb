{
 "cells": [
  {
   "cell_type": "code",
   "execution_count": null,
   "id": "d8ac72d9",
   "metadata": {},
   "outputs": [],
   "source": [
    "# Создать список из 6 случайных целых чисел в диапазоне от 2 до 10 (включительно). \n",
    "# По ним построить Pie chart. \n",
    "# Поменять базовые цвета на какие-нибудь монохромные. \n",
    "# Добавить подписи относительных пропорций каждой величины относительно общего (чтобы внутри каждого кусочка pie было написано количество процентов от общего) с точностью до 2 знака после запятой. \n",
    "# Отделить один кусочек от остальных.\n",
    "import random\n",
    "import matplotlib.pyplot as plt\n",
    "spisok = [random.randint(2,6) for i in range (6)]\n",
    "explodes = [0, 0.2, 0, 0, 0, 0]\n",
    "colors_pie = ['whitesmoke', 'gainsboro', 'lightgray', 'silver', 'darkgray', 'gray']\n",
    "plt.pie(spisok, autopct='%1.2f%%', startangle = 45, explode = explodes, colors = colors_pie)\n",
    "plt.show()"
   ]
  },
  {
   "cell_type": "code",
   "execution_count": null,
   "id": "bec2ece9",
   "metadata": {},
   "outputs": [],
   "source": []
  }
 ],
 "metadata": {
  "kernelspec": {
   "display_name": "Python 3 (ipykernel)",
   "language": "python",
   "name": "python3"
  },
  "language_info": {
   "codemirror_mode": {
    "name": "ipython",
    "version": 3
   },
   "file_extension": ".py",
   "mimetype": "text/x-python",
   "name": "python",
   "nbconvert_exporter": "python",
   "pygments_lexer": "ipython3",
   "version": "3.9.12"
  },
  "vscode": {
   "interpreter": {
    "hash": "bc5b57cb1784ad5164f310eb212307a18b57feda83c597a0cef8dd7da2a8cc05"
   }
  }
 },
 "nbformat": 4,
 "nbformat_minor": 5
}
