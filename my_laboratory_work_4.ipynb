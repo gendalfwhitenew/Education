{
 "cells": [
  {
   "cell_type": "code",
   "execution_count": null,
   "id": "1bf183f9",
   "metadata": {},
   "outputs": [],
   "source": [
    "# 1)\tОсуществляется ввод данных списка с клавиатуры. Реализовать функцию,\n",
    "# принимающую одно число и возвращающую его модуль. Вывести список\n",
    "# абсолютных величин исходного списка. А также число – количество вызовов функции.\n",
    "# Не забыть обработать возможные исключения.\n",
    "# Пример:\n",
    "# Ввод >>>  1 -3 8 -19 0 -88\n",
    "# Вывод >>> [1, 3, 8, 19, 0, 88], количество вызовов = 6\n",
    "\n",
    "\n",
    "def returm_module(s):\n",
    "    result = []  \n",
    "    if s:\n",
    "        count = 0\n",
    "        for i in s: \n",
    "            if i < 0:\n",
    "                result.append(-i)\n",
    "                count += 1\n",
    "            elif i >=0:\n",
    "                result.append(i) \n",
    "                count += 1\n",
    "        print(result,',',' количество вызовов = ', count, sep='')    \n",
    "    else:\n",
    "        print('Список пуст')\n",
    "   \n",
    "s = list(map(int,input('Введите числа через пробел: ').split()))\n",
    "returm_module(s) "
   ]
  },
  {
   "cell_type": "code",
   "execution_count": null,
   "id": "c6d3e184",
   "metadata": {},
   "outputs": [],
   "source": [
    "# 2)\tВводятся с клавиатуры 2 списка. Реализовать поэлементное умножений \n",
    "# элементов первого списка на элементы второго.\n",
    "# Пример:\n",
    "# Ввод >>>  1 2 3 4 5 6\n",
    "#           1 2 3 4 5 6\n",
    "# Вывод >>> [1, 4, 9, 25, 36]\n",
    "\n",
    "first = list(map(int,input(\"Введите числа первого списка через пробел \").split()))\n",
    "second = list(map(int,input(\"Введите числа второго списка через пробел \").split()))\n",
    "             \n",
    "result = []\n",
    "for i in range(len(first)):\n",
    "     result.append(first[i]*second[i])\n",
    "print(result)"
   ]
  },
  {
   "cell_type": "code",
   "execution_count": null,
   "id": "1cc4eed1",
   "metadata": {
    "scrolled": true
   },
   "outputs": [],
   "source": [
    "# 3)\tДана строка с пробелами (с несколькими словами). Вывести длину слов в\n",
    "# строке, используя функцию map().\n",
    "# Пример:\n",
    "# Ввод >>>  “All the world is a stage”\n",
    "# Вывод >>> [3, 3, 5, 2, 1, 5]\n",
    "\n",
    "s = \"All the world is a stage\" \n",
    "li = list(map(len, s.split())) \n",
    "print(li)"
   ]
  }
 ],
 "metadata": {
  "kernelspec": {
   "display_name": "Python 3 (ipykernel)",
   "language": "python",
   "name": "python3"
  },
  "language_info": {
   "codemirror_mode": {
    "name": "ipython",
    "version": 3
   },
   "file_extension": ".py",
   "mimetype": "text/x-python",
   "name": "python",
   "nbconvert_exporter": "python",
   "pygments_lexer": "ipython3",
   "version": "3.9.12"
  },
  "vscode": {
   "interpreter": {
    "hash": "bc5b57cb1784ad5164f310eb212307a18b57feda83c597a0cef8dd7da2a8cc05"
   }
  }
 },
 "nbformat": 4,
 "nbformat_minor": 5
}
