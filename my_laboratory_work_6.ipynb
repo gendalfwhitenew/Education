{
 "cells": [
  {
   "cell_type": "code",
   "execution_count": null,
   "id": "d8ac72d9",
   "metadata": {},
   "outputs": [],
   "source": [
    "# Использовать библиотеку openpyxl\n",
    "# Создать документ Excel с одним рабочим листом. Назвать его ‘Python’. \n",
    "# Столбец A заполнить числами от 3 до 15.\n",
    "# Столбец B заполнить следующим образом: каждое третье значение столбца А \n",
    "# умножается на 2, остальные просто переносятся из А.\n",
    "# По данным столбца B построить BarChart и  PieChart.\n",
    "# Сохранить \n",
    "\n",
    "import openpyxl\n",
    "\n",
    "wb = openpyxl.Workbook()\n",
    "\n",
    "sheet = wb['Sheet']\n",
    "sheet.cell(1,1).value = 'значения'\n",
    "sheet.cell(1,2).value = 'значения'\n",
    "\n",
    "for row in range(2, 15):\n",
    "    value = int(row + 1)\n",
    "    cell = sheet.cell(row = row, column = 1)\n",
    "    cell.value = value\n",
    "\n",
    "for row in range(2, 15):\n",
    "    value = int(row + 1)\n",
    "    cell = sheet.cell(row = row, column = 2)\n",
    "    if  (value + 1) % 3 == 0:  \n",
    "        cell.value = value * 2\n",
    "    else:\n",
    "        cell.value = value\n",
    "    \n",
    "from openpyxl.chart import BarChart, PieChart, Reference\n",
    "\n",
    "\n",
    "chart = BarChart()\n",
    "pie = PieChart()\n",
    "\n",
    "chart.title = 'диаграмма'\n",
    "pie.title = 'круговая диаграмма'\n",
    "\n",
    "data = Reference(sheet, min_col = 2, min_row = 1, max_col = 2, max_row = 14)\n",
    "chart.add_data(data, titles_from_data = True)\n",
    "pie.add_data(data, titles_from_data = True)\n",
    "\n",
    "sheet.add_chart(chart, 'D2')\n",
    "sheet.add_chart(pie,'N2')\n",
    "\n",
    "wb.save('Python.xlsx')"
   ]
  }
 ],
 "metadata": {
  "kernelspec": {
   "display_name": "Python 3 (ipykernel)",
   "language": "python",
   "name": "python3"
  },
  "language_info": {
   "codemirror_mode": {
    "name": "ipython",
    "version": 3
   },
   "file_extension": ".py",
   "mimetype": "text/x-python",
   "name": "python",
   "nbconvert_exporter": "python",
   "pygments_lexer": "ipython3",
   "version": "3.9.12"
  },
  "vscode": {
   "interpreter": {
    "hash": "bc5b57cb1784ad5164f310eb212307a18b57feda83c597a0cef8dd7da2a8cc05"
   }
  }
 },
 "nbformat": 4,
 "nbformat_minor": 5
}
