{
 "cells": [
  {
   "cell_type": "code",
   "execution_count": null,
   "id": "1bf183f9",
   "metadata": {},
   "outputs": [],
   "source": [
    "# 1)\tДан список a = [5, 7, -3, -7, 65, 34, 23, -12, -9]. Отсортировать таким образом, \n",
    "# чтобы сначала шли отрицательные, потом положительные в порядке \n",
    "# возрастания абсолютного значения (модуля) числа. (т.е. -3, -7, -9, -12, 5, 7, 23, \n",
    "# 34, 65)\n",
    "def share_minus_plus(nums):\n",
    "    for i in nums:\n",
    "        if (i < 0):\n",
    "            minus.append(i)\n",
    "        else:\n",
    "            plus.append(i)\n",
    "def sort_minus(minus):  \n",
    "    for i in range(len(minus)):\n",
    "        lowest_value_index = i\n",
    "        for j in range(i + 1, len(minus)):\n",
    "            if abs(minus[j]) < abs(minus[lowest_value_index]):\n",
    "                lowest_value_index = j\n",
    "        minus[i], minus[lowest_value_index] = minus[lowest_value_index], minus[i]\n",
    "def sort_plus(plus):  \n",
    "    for i in range(len(plus)):\n",
    "        lowest_value_index = i\n",
    "        for j in range(i + 1, len(plus)):\n",
    "            if plus[j] < plus[lowest_value_index]:\n",
    "                lowest_value_index = j\n",
    "        plus[i], plus[lowest_value_index] = plus[lowest_value_index], plus[i]\n",
    "    \n",
    "nums = [5, 7, -3, -7, 65, 34, 23, -12, -9]    \n",
    "print(nums)\n",
    "minus = []\n",
    "plus = []\n",
    "share_minus_plus(nums)\n",
    "sort_minus(minus)\n",
    "sort_plus(plus)\n",
    "print(minus + plus)\n"
   ]
  },
  {
   "cell_type": "code",
   "execution_count": null,
   "id": "c6d3e184",
   "metadata": {},
   "outputs": [],
   "source": [
    "# 2)\tРеализовать Insertion Sort (Сортировка вставками) – каждый новый элемент вставляется \n",
    "# на свое место в уже отсортированной части списка)\n",
    "\n",
    "array = [5,2,4,3,1]\n",
    "\n",
    "print(array)\n",
    "for i in range(1, len(array)):\n",
    "    insert = array[i]\n",
    "    j = i - 1\n",
    "    while j >= 0 and array[j] > insert:\n",
    "        array[j + 1] = array[j]\n",
    "        j -= 1\n",
    "    array[j + 1] = insert\n",
    "    print(array)"
   ]
  }
 ],
 "metadata": {
  "kernelspec": {
   "display_name": "Python 3 (ipykernel)",
   "language": "python",
   "name": "python3"
  },
  "language_info": {
   "codemirror_mode": {
    "name": "ipython",
    "version": 3
   },
   "file_extension": ".py",
   "mimetype": "text/x-python",
   "name": "python",
   "nbconvert_exporter": "python",
   "pygments_lexer": "ipython3",
   "version": "3.9.12"
  },
  "vscode": {
   "interpreter": {
    "hash": "bc5b57cb1784ad5164f310eb212307a18b57feda83c597a0cef8dd7da2a8cc05"
   }
  }
 },
 "nbformat": 4,
 "nbformat_minor": 5
}
