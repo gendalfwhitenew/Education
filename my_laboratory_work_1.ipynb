{
 "cells": [
  {
   "cell_type": "code",
   "execution_count": 1,
   "id": "8afef9bc",
   "metadata": {
    "pycharm": {
     "name": "#%%\n"
    }
   },
   "outputs": [
    {
     "name": "stdout",
     "output_type": "stream",
     "text": [
      "321\n"
     ]
    }
   ],
   "source": [
    "# 1) Пользователь вводит с клавиатуры трехзначное число. Необходимо записать число, полученное перестановкой цифр в обратном порядке. (решение задачи без приведения к типу str)\n",
    "# Пример:\n",
    "# Ввод >>> 123\n",
    "# Вывод >>> 321\n",
    "\n",
    "n = int(input('Введите число ')) \n",
    "\n",
    "if n >= 0:\n",
    "    flag = False\n",
    "else:\n",
    "    flag = True \n",
    "    n = abs(n) \n",
    "\n",
    "if n > 99 and n < 1000:\n",
    "    first = n // 100 \n",
    "    second = int(n / 10 % 10)  \n",
    "    third = n % 10\n",
    "    new_n = third * 100 + second * 10 + first \n",
    "    \n",
    "    if flag:\n",
    "        print('-', end = '')\n",
    "    \n",
    "    if third == 0:\n",
    "        print('0', end = '')\n",
    "    \n",
    "    print(new_n)\n",
    "else:\n",
    "    print('Число не трехзначное')"
   ]
  },
  {
   "cell_type": "code",
   "execution_count": 3,
   "id": "c0aad50f",
   "metadata": {
    "pycharm": {
     "name": "#%%\n"
    }
   },
   "outputs": [
    {
     "name": "stdout",
     "output_type": "stream",
     "text": [
      "3-я четверть\n"
     ]
    }
   ],
   "source": [
    "# 2) В переменную min, являющуюся текущим количеством минут, считать число от 0 до 59. Определить, в какую четверть часа попадет минутная стрелка на механических часах. В случае некорректно введённого числа вывести сообщение «ошибка»\n",
    "# Пример:\n",
    "# Ввод >>> 123\n",
    "# Вывод >>> Ошибка\n",
    "\n",
    "# Ввод >>> 1\n",
    "# Вывод >>> 1-ая четверть\n",
    "\n",
    "# Ввод >>> 15\n",
    "# Вывод >>> 2-ая четверть\n",
    "\n",
    "min = int(input('Введите количество минут '))\n",
    "\n",
    "if min < 0 or min > 59:\n",
    "    print('Ошибка')\n",
    "elif min < 15:\n",
    "    print('1-ая четверть')\n",
    "elif min < 30:\n",
    "    print('2-ая четверть')\n",
    "elif min < 45:\n",
    "    print('3-я четверть')\n",
    "else:\n",
    "    print('4-я четверть')\n"
   ]
  },
  {
   "cell_type": "code",
   "execution_count": null,
   "id": "ea00c3a9",
   "metadata": {
    "pycharm": {
     "name": "#%%\n"
    }
   },
   "outputs": [],
   "source": []
  }
 ],
 "metadata": {
  "kernelspec": {
   "display_name": "Python 3.10.7 64-bit",
   "language": "python",
   "name": "python3"
  },
  "language_info": {
   "codemirror_mode": {
    "name": "ipython",
    "version": 3
   },
   "file_extension": ".py",
   "mimetype": "text/x-python",
   "name": "python",
   "nbconvert_exporter": "python",
   "pygments_lexer": "ipython3",
   "version": "3.10.7"
  },
  "vscode": {
   "interpreter": {
    "hash": "bc5b57cb1784ad5164f310eb212307a18b57feda83c597a0cef8dd7da2a8cc05"
   }
  }
 },
 "nbformat": 4,
 "nbformat_minor": 5
}
