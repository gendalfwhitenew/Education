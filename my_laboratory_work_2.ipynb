{
 "cells": [
  {
   "cell_type": "code",
   "execution_count": 6,
   "id": "7a2ab984",
   "metadata": {},
   "outputs": [
    {
     "name": "stdout",
     "output_type": "stream",
     "text": [
      "Введите число: 2\n",
      "01\n"
     ]
    }
   ],
   "source": [
    "# 1)\tС клавиатуры считывается число n. Требуется вывести последовательность “010101010...”, в которой ровно n символов. (Не n пар “01”, а именно n символов)\n",
    "# “010101010...”, в которой ровно n символов. (Не n пар “01”, а именно n символов)\n",
    "# Пример:\n",
    "# Ввод >>> 2\n",
    "# Вывод >>> 01\n",
    "\n",
    "# Ввод >>> 3\n",
    "# Вывод >>> 010\n",
    "\n",
    "# Ввод >>> 7\n",
    "# Вывод >>> 0101010\n",
    "\n",
    "n = int(input('Введите число: '))\n",
    "if n > 0:\n",
    "    print(('01' * ((n + 1) // 2))[ :n])\n",
    "else:     \n",
    "    print('Число отрицательное или 0')"
   ]
  },
  {
   "cell_type": "code",
   "execution_count": 5,
   "id": "e2fa9fd3",
   "metadata": {},
   "outputs": [
    {
     "name": "stdout",
     "output_type": "stream",
     "text": [
      "Введите число: 3\n",
      "6\n"
     ]
    }
   ],
   "source": [
    "# 2)\tВычислить факториал числа с помощью цикла (факториал – это произведение всех натуральных чисел от 1 до данного включительно, напр. 5! = 1*2*3*4*5 = 120, 0! = 1)\n",
    "\n",
    "# Пример:\n",
    "# Ввод >>> -1\n",
    "# Вывод >>> Ошибка\n",
    "\n",
    "# Ввод >>> 0\n",
    "# Вывод >>> 1\n",
    "\n",
    "# Ввод >>> 5\n",
    "# Вывод >>> 120\n",
    "\n",
    "number = int(input('Введите число: '))\n",
    "if number >= 0:\n",
    "    if number == 0:\n",
    "        print(1)\n",
    "    else:\n",
    "        x = 1\n",
    "        for i in range(1, number + 1):\n",
    "            x *= i\n",
    "        print(x)\n",
    "else:\n",
    "    print('Ошибка')"
   ]
  },
  {
   "cell_type": "code",
   "execution_count": 20,
   "id": "25ed0ebb",
   "metadata": {},
   "outputs": [
    {
     "name": "stdout",
     "output_type": "stream",
     "text": [
      "Введите число: 12\n",
      "Сумма делителей числа = 28\n"
     ]
    }
   ],
   "source": [
    "# 3)\tПосчитать сумму всех делителей числа ( число 12 имеет делители 1, 2, 3, 4, 6, 12. Их сумма = 1+2+3+4+6+12 = 28)\n",
    "\n",
    "# Пример:\n",
    "# Ввод >>> 12\n",
    "# Вывод >>> 28\n",
    "\n",
    "number = int(input('Введите число: '))\n",
    "number = abs(number)\n",
    "s = 0\n",
    "i = 1\n",
    "while i <= number:\n",
    "    if number % i == 0:\n",
    "        s += i\n",
    "        \n",
    "    i += 1\n",
    "    \n",
    "print('Сумма делителей числа =',s)"
   ]
  },
  {
   "cell_type": "code",
   "execution_count": null,
   "id": "e16beab5",
   "metadata": {},
   "outputs": [],
   "source": []
  }
 ],
 "metadata": {
  "kernelspec": {
   "display_name": "Python 3 (ipykernel)",
   "language": "python",
   "name": "python3"
  },
  "language_info": {
   "codemirror_mode": {
    "name": "ipython",
    "version": 3
   },
   "file_extension": ".py",
   "mimetype": "text/x-python",
   "name": "python",
   "nbconvert_exporter": "python",
   "pygments_lexer": "ipython3",
   "version": "3.9.12"
  }
 },
 "nbformat": 4,
 "nbformat_minor": 5
}
