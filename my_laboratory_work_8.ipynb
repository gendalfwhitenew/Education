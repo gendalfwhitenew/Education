{
 "cells": [
  {
   "cell_type": "code",
   "execution_count": null,
   "id": "d8ac72d9",
   "metadata": {},
   "outputs": [],
   "source": [
    "# Составить таблицу топ-100 фильмов с сайта https://www.kinopoisk.ru\n",
    "# В таблицу включить следующие поля:\n",
    "# ●\tоригинальное название\n",
    "# ●\tгод выпуска\n",
    "# ●\tстрана (-ы)\n",
    "# ●\tрейтинг Кинопоиска (в баллах)\n",
    "# ●\tместо в рейтинге Кинопоиска"
   ]
  },
  {
   "cell_type": "code",
   "execution_count": null,
   "id": "b03bf0a9",
   "metadata": {},
   "outputs": [],
   "source": [
    "!pip install beautifulsoup4\n",
    "!pip install requests"
   ]
  },
  {
   "cell_type": "code",
   "execution_count": null,
   "id": "348c38a4",
   "metadata": {},
   "outputs": [],
   "source": [
    "import requests\n",
    "from bs4 import BeautifulSoup\n",
    "import pandas as pd"
   ]
  },
  {
   "cell_type": "code",
   "execution_count": null,
   "id": "172040ce",
   "metadata": {},
   "outputs": [],
   "source": [
    "header = {\n",
    "    'accept': 'application/json, text/plain, */*',\n",
    "    'accept-encoding': 'gzip, deflate, br',\n",
    "    'accept-language': 'en,ru;q=0.9,en-US;q=0.8,ru-RU;q=0.7',\n",
    "    'cache-control': 'max-age=0',\n",
    "    'cookie': '_csrf=HVZsbhgVZttNUjAFZnPTlVWS; _yasc=weUL2j2E2LGGWbmHkYrKyDAhvEjO/Pk85Ve7ulvxgwMYJLBFScUUdzAlfsQo; desktop_session_key=061ceea941ec95a7c91f4ffb0693dad3ec38632d3091bb12dc942884b0a8c0e4b8f8af37144ab463758a8045f5104642b9838c6c252f2884caf29acb26f2f4085b8dc232ea6a17a40194e4ca9963fe0715642484fa058097b2ebd05f978a11da; desktop_session_key.sig=SaUZeGMNS6jDdhyAjqgFbbCIgKM; gdpr=0; _ym_uid=1668854744355785752; yandexuid=8997032081668854744; yuidss=8997032081668854744; ya_sess_id=noauth:1668854744; yandex_login=; ys=c_chck.166551063; i=j4X+xwnS8NknsZ5LkaEVddeACCPSWCA1ewwxucdgGdDtvJKMOr+KEnGuTaNwo/pcvGGuc2AWFN6SSja6yJ1TuzomDHI=; mda2_beacon=1668854744359; sso_status=sso.passport.yandex.ru:synchronized; location=1; _ym_isad=1; crookie=0SpIbnBb17gzyxZLwIqomo3SxPTUWv/VnxpCrOGMs8IAmnc0q+M+YzXibrWWjq5x48o8qGlUpEOmImnT1/Ls4IniypU=; cmtchd=MTY2ODg1NTM1NzI3MQ==; PHPSESSID=baf2a2e73987b21a25c2acec36d23497; user_country=ru; yandex_gid=55; tc=467; _ym_d=1668857620',\n",
    "    'referer': '',\n",
    "    'sec-ch-ua': '\"Google Chrome\";v=\"107\", \"Chromium\";v=\"107\", \"Not=A?Brand\";v=\"24\"',\n",
    "    'sec-ch-ua-mobile': '?0',\n",
    "    'sec-ch-ua-platform': '\"Windows\"',\n",
    "    'sec-fetch-dest': 'empty',\n",
    "    'sec-fetch-mode': 'cors',\n",
    "    'sec-fetch-site': 'same-origin',\n",
    "    'sec-fetch-user': '?1',\n",
    "    'upgrade-insecure-requests': '1',\n",
    "    'user-agent': 'Mozilla/5.0 (Windows NT 10.0; Win64; x64) AppleWebKit/537.36 (KHTML, like Gecko) Chrome/107.0.0.0 Safari/537.36'\n",
    "    }"
   ]
  },
  {
   "cell_type": "code",
   "execution_count": null,
   "id": "9a1927b7",
   "metadata": {},
   "outputs": [],
   "source": [
    "url = 'https://www.kinopoisk.ru/lists/movies/top250/'\n",
    "html_doc = requests.get(url,headers = header)\n",
    "soup = BeautifulSoup(html_doc.text, 'lxml')"
   ]
  },
  {
   "cell_type": "code",
   "execution_count": null,
   "id": "eda286aa",
   "metadata": {},
   "outputs": [],
   "source": [
    "data = []\n",
    "data1 = []\n",
    "data2 = []\n",
    "data3 = []\n",
    "data4 = []\n",
    "for el in soup.find_all('span', attrs = {'class': 'styles_mainTitle__IFQyZ styles_activeMovieTittle__kJdJj'}):\n",
    "    data.append(el.get_text())\n",
    "for el in soup.find_all('span', attrs = {'class': 'desktop-list-main-info_secondaryText__M_aus'}):\n",
    "    data1.append(el.get_text())\n",
    "for el in soup.find_all('span', attrs = {'class': 'desktop-list-main-info_truncatedText__IMQRP'}):\n",
    "    data2.append(el.get_text()) \n",
    "del data2[1::2] \n",
    "for el in soup.find_all('span', attrs = {'class': 'styles_kinopoiskValuePositive__vOb2E styles_kinopoiskValue__9qXjg'}):\n",
    "    data3.append(el.get_text())\n",
    "for el in soup.find_all('div', attrs = {'class': 'styles_top250__KTSbT'}):\n",
    "    data4.append(el.get_text()) "
   ]
  },
  {
   "cell_type": "code",
   "execution_count": null,
   "id": "e5d82c4b",
   "metadata": {},
   "outputs": [],
   "source": [
    "header = ({'Название фильма' : data, 'Год выпуска' : data1, 'Страна' : data2, 'Рейтинг Кинопоиска (в баллах)' : \n",
    "           data3, 'Место в рейтинге Кинопоиска' : data4})\n",
    "df1 = pd.DataFrame.from_dict(header, orient = 'index')\n",
    "df1 = df1.transpose()\n"
   ]
  },
  {
   "cell_type": "code",
   "execution_count": null,
   "id": "0478c33a",
   "metadata": {},
   "outputs": [],
   "source": [
    "header = {\n",
    "    'accept': 'application/json, text/plain, */*',\n",
    "    'accept-encoding': 'gzip, deflate, br',\n",
    "    'accept-language': 'en,ru;q=0.9,en-US;q=0.8,ru-RU;q=0.7',\n",
    "    'cache-control': 'max-age=0',\n",
    "    'cookie': '_csrf=HVZsbhgVZttNUjAFZnPTlVWS; _yasc=weUL2j2E2LGGWbmHkYrKyDAhvEjO/Pk85Ve7ulvxgwMYJLBFScUUdzAlfsQo; desktop_session_key=061ceea941ec95a7c91f4ffb0693dad3ec38632d3091bb12dc942884b0a8c0e4b8f8af37144ab463758a8045f5104642b9838c6c252f2884caf29acb26f2f4085b8dc232ea6a17a40194e4ca9963fe0715642484fa058097b2ebd05f978a11da; desktop_session_key.sig=SaUZeGMNS6jDdhyAjqgFbbCIgKM; gdpr=0; _ym_uid=1668854744355785752; yandexuid=8997032081668854744; yuidss=8997032081668854744; ya_sess_id=noauth:1668854744; yandex_login=; ys=c_chck.166551063; i=j4X+xwnS8NknsZ5LkaEVddeACCPSWCA1ewwxucdgGdDtvJKMOr+KEnGuTaNwo/pcvGGuc2AWFN6SSja6yJ1TuzomDHI=; mda2_beacon=1668854744359; sso_status=sso.passport.yandex.ru:synchronized; location=1; _ym_isad=1; crookie=0SpIbnBb17gzyxZLwIqomo3SxPTUWv/VnxpCrOGMs8IAmnc0q+M+YzXibrWWjq5x48o8qGlUpEOmImnT1/Ls4IniypU=; cmtchd=MTY2ODg1NTM1NzI3MQ==; PHPSESSID=baf2a2e73987b21a25c2acec36d23497; user_country=ru; yandex_gid=55; tc=467; _ym_d=1668857620',\n",
    "    'referer': '',\n",
    "    'sec-ch-ua': '\"Google Chrome\";v=\"107\", \"Chromium\";v=\"107\", \"Not=A?Brand\";v=\"24\"',\n",
    "    'sec-ch-ua-mobile': '?0',\n",
    "    'sec-ch-ua-platform': '\"Windows\"',\n",
    "    'sec-fetch-dest': 'empty',\n",
    "    'sec-fetch-mode': 'cors',\n",
    "    'sec-fetch-site': 'same-origin',\n",
    "    'sec-fetch-user': '?1',\n",
    "    'upgrade-insecure-requests': '1',\n",
    "    'user-agent': 'Mozilla/5.0 (Windows NT 10.0; Win64; x64) AppleWebKit/537.36 (KHTML, like Gecko) Chrome/107.0.0.0 Safari/537.36'\n",
    "    }"
   ]
  },
  {
   "cell_type": "code",
   "execution_count": null,
   "id": "f9ff5afb",
   "metadata": {},
   "outputs": [],
   "source": [
    "url = 'https://www.kinopoisk.ru/lists/movies/top250/?page=2'\n",
    "html_doc = requests.get(url,headers = header)\n",
    "soup = BeautifulSoup(html_doc.text, 'lxml')"
   ]
  },
  {
   "cell_type": "code",
   "execution_count": null,
   "id": "f02cdf20",
   "metadata": {},
   "outputs": [],
   "source": [
    "data = []\n",
    "data1 = []\n",
    "data2 = []\n",
    "data3 = []\n",
    "data4 = []\n",
    "for el in soup.find_all('span', attrs = {'class': 'styles_mainTitle__IFQyZ styles_activeMovieTittle__kJdJj'}):\n",
    "    data.append(el.get_text())\n",
    "for el in soup.find_all('span', attrs = {'class': 'desktop-list-main-info_secondaryText__M_aus'}):\n",
    "    data1.append(el.get_text())\n",
    "for el in soup.find_all('span', attrs = {'class': 'desktop-list-main-info_truncatedText__IMQRP'}):\n",
    "    data2.append(el.get_text()) \n",
    "del data2[1::2] \n",
    "for el in soup.find_all('span', attrs = {'class': 'styles_kinopoiskValuePositive__vOb2E styles_kinopoiskValue__9qXjg'}):\n",
    "    data3.append(el.get_text())\n",
    "for el in soup.find_all('div', attrs = {'class': 'styles_top250__KTSbT'}):\n",
    "    data4.append(el.get_text()) "
   ]
  },
  {
   "cell_type": "code",
   "execution_count": null,
   "id": "90225054",
   "metadata": {},
   "outputs": [],
   "source": [
    "header = ({'Название фильма' : data, 'Год выпуска' : data1, 'Страна' : data2, 'Рейтинг Кинопоиска (в баллах)' : \n",
    "           data3, 'Место в рейтинге Кинопоиска' : data4})\n",
    "df2 = pd.DataFrame.from_dict(header, orient = 'index')\n",
    "df2 = df2.transpose()\n",
    "pd.concat([df1, df2], ignore_index = True)"
   ]
  },
  {
   "cell_type": "code",
   "execution_count": null,
   "id": "8d3494ab",
   "metadata": {},
   "outputs": [],
   "source": [
    "df = pd.concat([df1, df2], ignore_index = True)\n",
    "df.to_csv('films.csv', encoding = 'utf-8-sig')"
   ]
  }
 ],
 "metadata": {
  "kernelspec": {
   "display_name": "Python 3 (ipykernel)",
   "language": "python",
   "name": "python3"
  },
  "language_info": {
   "codemirror_mode": {
    "name": "ipython",
    "version": 3
   },
   "file_extension": ".py",
   "mimetype": "text/x-python",
   "name": "python",
   "nbconvert_exporter": "python",
   "pygments_lexer": "ipython3",
   "version": "3.9.12"
  },
  "vscode": {
   "interpreter": {
    "hash": "bc5b57cb1784ad5164f310eb212307a18b57feda83c597a0cef8dd7da2a8cc05"
   }
  }
 },
 "nbformat": 4,
 "nbformat_minor": 5
}
