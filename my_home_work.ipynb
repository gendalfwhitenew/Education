{
 "cells": [
  {
   "cell_type": "code",
   "execution_count": null,
   "id": "c37be7d9",
   "metadata": {},
   "outputs": [],
   "source": [
    "# 1.\tСчитать с клавиатуры 2 числа. Вывести наименьшее из них по модулю. \n",
    "# (напр., -8, 6 – наименьшее по модулю = 6)\n",
    "a = int(input('Введите число 1: '))\n",
    "b = int(input('Введите число 2: '))\n",
    "if abs(a) < abs(b): \n",
    "    print('наименьшее по модулю =', abs(a))\n",
    "else:   \n",
    "    print('наименьшее по модулю =', abs(b))"
   ]
  },
  {
   "cell_type": "code",
   "execution_count": null,
   "id": "34813931",
   "metadata": {},
   "outputs": [],
   "source": [
    "# 2.\tСчитать с клавиатуры строку. Вывести количество слов в данной строке и \n",
    "# количество букв. (напр., “Мама мыла раму.” – 3 слова, 12 букв. “helloworld” – 1 \n",
    "# слово, 10 букв)\n",
    "import string\n",
    "strValue = input(str('Напечатайте строку - '))\n",
    "filtered_chars = filter(lambda item: item not in string.punctuation, strValue)\n",
    "strValue = ' '.join(filtered_chars)\n",
    "num_words = len(strValue.split())\n",
    "num_letter = sum(len(x) for x in strValue.split())\n",
    "print('Количество слов', ' - ', (num_words), ', ' , 'Количеcтво букв', ' - ', (num_letter), sep = '')"
   ]
  },
  {
   "cell_type": "code",
   "execution_count": null,
   "id": "820e2f1e",
   "metadata": {},
   "outputs": [],
   "source": [
    "# 3.\tДан список array = [10, 9, 3, 7, 5, 1, 3, 2]. Отсортировать его по убыванию \n",
    "# методом пузырька.\n",
    "def bubble_sort(array):\n",
    "    length = len(array)\n",
    "    for i in range(length):\n",
    "        for j in range(0, length-i-1):\n",
    "            if array[j] > array[j+1]:\n",
    "                temp = array[j]\n",
    "                array[j] = array[j+1]\n",
    "                array[j+1] = temp\n",
    "\n",
    "array = [10, 9, 3, 7, 5, 1, 3, 2]               \n",
    "bubble_sort(array)\n",
    "print(array)"
   ]
  },
  {
   "cell_type": "code",
   "execution_count": null,
   "id": "09c5fbf6",
   "metadata": {},
   "outputs": [],
   "source": [
    "# 4.\tСчитать 2 целых числа. Вывести список их общих делителей. \n",
    "# (напр., 12, 18 – общие делители = [1, 2, 3, 6])\n",
    "a = int(input('Введите число 1: '))\n",
    "b = int(input('Введите число 2: '))\n",
    "n = 0\n",
    "list = []\n",
    "for i in range(1, min(a, b) + 1):\n",
    "    if a % i == b % i == 0:\n",
    "        list.append(i)\n",
    "        n += 1\n",
    "print(list)"
   ]
  },
  {
   "cell_type": "code",
   "execution_count": null,
   "id": "cae5a4a1",
   "metadata": {},
   "outputs": [],
   "source": [
    "# 5.\tСчитать число. Проверить, является ли оно палиндромом (все цифры \n",
    "# симметричны относительно центра). (напр., палиндромы: 1, 123321, 1234321.)\n",
    "def palindrome(s):\n",
    "    for i in range(len(s)//2):\n",
    "        if s[i] != s[len(s)-1-i]:\n",
    "            return print(s, 'Число не полиндром')               \n",
    "    return print(s, 'Число полиндром')\n",
    "string_1 = '123321'\n",
    "string_2 = '1234321'\n",
    "palindrome(string_1)\n",
    "palindrome(string_2)"
   ]
  },
  {
   "cell_type": "code",
   "execution_count": null,
   "id": "a1887d73",
   "metadata": {},
   "outputs": [],
   "source": [
    "# 6.\tСчитать строку. Внутри каждого слова отсортировать все буквы по алфавиту. \n",
    "# (Под словами понимается слитная последовательность букв). \n",
    "# (напр., ‘All the world’s a stage’ – ‘All eht dlorw’s a aegst’)\n",
    "import string\n",
    "strValue = input('Напечатайте строку - ')\n",
    "filtered_chars = filter(lambda item: item not in string.punctuation, strValue)\n",
    "strValue = ''.join(filtered_chars)\n",
    "strValue = strValue.split()\n",
    "print(strValue)\n",
    "\n",
    "strValue.sort()\n",
    "print(strValue)"
   ]
  },
  {
   "cell_type": "code",
   "execution_count": null,
   "id": "485373ef",
   "metadata": {},
   "outputs": [],
   "source": [
    "sorted_data = []\n",
    "\n",
    "# Loop to iterate the outer list\n",
    "for i in range(len(strValue)):\n",
    "   # Loop to iterate the inner list\n",
    "   for j in range(len(strValue [i])):\n",
    "      # Sort the inner list\n",
    "      sorted_list = sorted(strValue [i], key=lambda x: x[0])\n",
    "   # Append the sorted list\n",
    "   sorted_data.append(sorted_list)\n",
    "\n",
    "# Print the sorted nested list\n",
    "print(\"The list after sorting:\\n {}\".format(sorted_data))"
   ]
  },
  {
   "cell_type": "code",
   "execution_count": null,
   "id": "11060680",
   "metadata": {},
   "outputs": [],
   "source": [
    "# 7.\tКвадратная матрица должна иметь следующий вид:\n",
    "# 0  2  3  4  5 …\n",
    "# 2  0  3  4  5 …\n",
    "# 3  3  0  4  5 …\n",
    "# 4  4  4  0  5 …\n",
    "# 5  5  5  5  0 …\n",
    "# ……………….\n",
    "# Считать число с клавиатуры, сформировать и вывести такую матрицу, \n",
    "# имеющую заданную размерность. Данную матрицу вывести в файл matrix.txt.\n",
    "\n",
    "import sys\n",
    "sys.stdout = open('matrix.txt', \"w\")\n",
    "N = int(input())\n",
    "for i in range(N): \n",
    "    for j in range(N):\n",
    "        if i == j:\n",
    "            print(0, end = ' ')\n",
    "        elif i < j:\n",
    "            print(j + 1, end = ' ')\n",
    "        else:\n",
    "            print(i + 1, end = ' ')\n",
    "    print()\n"
   ]
  },
  {
   "cell_type": "code",
   "execution_count": null,
   "id": "77b70022",
   "metadata": {},
   "outputs": [],
   "source": [
    "# 8.\tСчитать с клавиатуры 2 числа: N и M, где N - количество строк матрицы,\n",
    "# M - количество столбцов матрицы. Сформировать матрицу заданной размерности, \n",
    "# состоящую из случайных чисел типа float с точностью до одного знака после точки. \n",
    "# Данную матрицу вывести в документ Word с именем matrix.docx и документ Excel с именем matrix.xlsx.\n",
    "# import docx\n",
    "# import openpyxl\n",
    "\n",
    "import numpy as np\n",
    "import docx\n",
    "import openpyxl\n",
    "N = int(input('Введите количество строк матрицы: '))\n",
    "M = int(input('Введите количество столбцов матрицы: '))\n",
    "A = np.random.uniform(0.0, 99.9, size = (N, M))\n",
    "\n",
    "A = np.around(A, decimals = 1)\n",
    "\n",
    "doc = docx.Document()\n",
    "table = doc.add_table(rows = N, cols = M) \n",
    "table.style = 'Table Grid'\n",
    "\n",
    "for row in range(N):\n",
    "    for col in range(M):\n",
    "        cell = table.cell(row, col)\n",
    "        cell.text = str(A[row][col])\n",
    "        \n",
    "doc.save('matrix.docx')\n",
    "\n",
    "wb = openpyxl.Workbook()\n",
    "sheet = wb['Sheet']\n",
    "sheet = wb.active\n",
    "print(A)\n",
    "for row in range(0, N):\n",
    "    for col in range(0, M):\n",
    "        cell = sheet.cell(row = row + 1, column = col + 1)\n",
    "        cell.value = A[row][col]\n",
    "    \n",
    "wb.save('matrix.xlsx')"
   ]
  }
 ],
 "metadata": {
  "kernelspec": {
   "display_name": "Python 3 (ipykernel)",
   "language": "python",
   "name": "python3"
  },
  "language_info": {
   "codemirror_mode": {
    "name": "ipython",
    "version": 3
   },
   "file_extension": ".py",
   "mimetype": "text/x-python",
   "name": "python",
   "nbconvert_exporter": "python",
   "pygments_lexer": "ipython3",
   "version": "3.9.12"
  },
  "vscode": {
   "interpreter": {
    "hash": "5179d32cf6ec497baf3f8a3ef987cc77c5d2dc691fdde20a56316522f61a7323"
   }
  }
 },
 "nbformat": 4,
 "nbformat_minor": 5
}
