{
 "cells": [
  {
   "cell_type": "code",
   "execution_count": null,
   "id": "1bf183f9",
   "metadata": {},
   "outputs": [],
   "source": [
    "# 1)\tДаны 2 списка, содержащие одинаковое количество числовых элементов. \n",
    "l1 = [1,3,2,5,7,4]\n",
    "l2 = [0,4,6,3,7,4]\n",
    "# Вывести элементы первого списка, которые больше элементов второго, стоящие на одинаковых позициях (сравнивать первый с первым, второй со вторым и тд)\n",
    "# Пример:\n",
    "# Вывод >>>  1, 5\n",
    "result = []\n",
    "for i in range(len(l1)):\n",
    "    if l1[i] > l2[i]:\n",
    "        result.append(l1[i])\n",
    "print(result)\n",
    " "
   ]
  },
  {
   "cell_type": "code",
   "execution_count": null,
   "id": "c6d3e184",
   "metadata": {},
   "outputs": [],
   "source": [
    "# 2)\tДаны 2 списка, содержащие одинаковое количество числовых элементов. \n",
    "l1 = [1,3,2,5,7,4]\n",
    "l2 = [0,4,6,3,7,4]\n",
    "# Для каждой позиции вывести наибольший элемент из соответствующего списка.\n",
    "# Пример:\n",
    "# Вывод >>>  1, 4, 6, 5, 7, 4\n",
    "\n",
    "result = []\n",
    "for i in range(len(l1)):\n",
    "    if l1[i] > l2[i]:\n",
    "        result.append(l1[i])\n",
    "    else:\n",
    "        result.append(l2[i])\n",
    "print(result)"
   ]
  },
  {
   "cell_type": "code",
   "execution_count": null,
   "id": "1cc4eed1",
   "metadata": {},
   "outputs": [],
   "source": [
    "# 3)\t\n",
    "# names = [‘Sam’, ‘John’, ‘Lindsay’, ‘Anna’]\n",
    "# last_names = [‘Smith’, ‘Black’, ‘Johnson’,’Davis’]\n",
    "# В первом списке хранятся имена людей. Во втором хранятся их фамилии. Напечатать список данных людей в формате:\n",
    "# Имя_1 Фамилия_1\n",
    "# Имя_2 Фамилия_2\n",
    "# ...\n",
    "\n",
    "# Пример:\n",
    "# Вывод >>>  Sam Smith\n",
    "#            John Black\n",
    "#            Lindsay Johnson\n",
    "#            Anna Davis\n",
    "names = ['Sam', 'John', 'Lindsay', 'Anna']\n",
    "last_names = ['Smith', 'Black', 'Johnson','Davis']\n",
    "for i in range(len(names)):\n",
    "    print(names[i] ,last_names[i])\n"
   ]
  }
 ],
 "metadata": {
  "kernelspec": {
   "display_name": "Python 3 (ipykernel)",
   "language": "python",
   "name": "python3"
  },
  "language_info": {
   "codemirror_mode": {
    "name": "ipython",
    "version": 3
   },
   "file_extension": ".py",
   "mimetype": "text/x-python",
   "name": "python",
   "nbconvert_exporter": "python",
   "pygments_lexer": "ipython3",
   "version": "3.9.12"
  },
  "vscode": {
   "interpreter": {
    "hash": "bc5b57cb1784ad5164f310eb212307a18b57feda83c597a0cef8dd7da2a8cc05"
   }
  }
 },
 "nbformat": 4,
 "nbformat_minor": 5
}
